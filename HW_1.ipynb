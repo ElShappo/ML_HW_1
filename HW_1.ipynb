{
  "nbformat": 4,
  "nbformat_minor": 0,
  "metadata": {
    "colab": {
      "provenance": [],
      "collapsed_sections": [],
      "authorship_tag": "ABX9TyNXupW0HVqvreDTD0DzMrAI",
      "include_colab_link": true
    },
    "kernelspec": {
      "name": "python3",
      "display_name": "Python 3"
    },
    "language_info": {
      "name": "python"
    }
  },
  "cells": [
    {
      "cell_type": "markdown",
      "metadata": {
        "id": "view-in-github",
        "colab_type": "text"
      },
      "source": [
        "<a href=\"https://colab.research.google.com/github/deni-ops/ML_HW_1/blob/main/HW_1.ipynb\" target=\"_parent\"><img src=\"https://colab.research.google.com/assets/colab-badge.svg\" alt=\"Open In Colab\"/></a>"
      ]
    },
    {
      "cell_type": "markdown",
      "source": [
        "Используя цикл for:\n",
        "  Скачать 100 вакансий ( регион-Москва, название вакансии - Аналитик), поля name и salary в два отдельных списка (list)\n",
        "\n",
        "Используя цикл while:\n",
        "  Скачать 100 вакансий (регион-Санкт-Петербург, название вакансии - Аналитик), поля name и salary   в два отдельных списка (list)\n",
        "  \n",
        "Используя любой из видов цикла - создать список названий вакансий, больших по зп в Санкт-Петербурге чем, в Москве. Для оценки зарплаты брать нижнюю границу (from), очищенную от налога (-13%), и пересчитанную с учетом курса валют в рубли. \n",
        "\n",
        "Вывести длину списка, и самую высокоплачиваемую вакансию, с указанием названия и зп, из него, используя команду print\n"
      ],
      "metadata": {
        "id": "YP0sro47wIkL"
      }
    },
    {
      "cell_type": "code",
      "execution_count": 29,
      "metadata": {
        "id": "7ZB0v0Hot4ZK"
      },
      "outputs": [],
      "source": [
        "import requests"
      ]
    },
    {
      "cell_type": "code",
      "source": [
        "names_moscow = [] # hold vacancies in Moscow\n",
        "salaries_moscow = [] # hold corresponding salaries in Moscow\n",
        "\n",
        "items_per_page = 10\n",
        "number_of_pages = 10\n",
        "\n",
        "vacancy_name = 'Аналитик' # desired vacancy name to search\n",
        "\n",
        "for i in range(number_of_pages):\n",
        "  url = f'https://api.hh.ru/vacancies?text={vacancy_name}&area=1&search_field=name&per_page={items_per_page}&page={i}'\n",
        "  items = requests.get(url).json()['items']\n",
        "  for item in items:\n",
        "    names_moscow += [item['name']]\n",
        "    salaries_moscow += [item['salary']]\n"
      ],
      "metadata": {
        "id": "GD6DwsUuuA2-"
      },
      "execution_count": 30,
      "outputs": []
    },
    {
      "cell_type": "code",
      "source": [
        "for i in range(len(names_moscow)):\n",
        "  if salaries_moscow[i] is not None:\n",
        "    print(f\"{names_moscow[i]} --- \" + f\"{salaries_moscow[i]['from']} to {salaries_moscow[i]['to']} ({salaries_moscow[i]['currency']})\")"
      ],
      "metadata": {
        "id": "h_CBfh_2KbME"
      },
      "execution_count": null,
      "outputs": []
    },
    {
      "cell_type": "code",
      "source": [
        "names_peter = [] # hold vacancies of Saint Petersburg\n",
        "salaries_peter = [] # hold corresponding salaries of Saint Petersburg\n",
        "\n",
        "i = 0\n",
        "while i < number_of_pages:\n",
        "  url = f'https://api.hh.ru/vacancies?text={vacancy_name}&area=2&search_field=name&per_page={items_per_page}&page={i}'\n",
        "  items = requests.get(url).json()['items']\n",
        "  for item in items:\n",
        "    names_peter += [item['name']]\n",
        "    salaries_peter += [item['salary']]\n",
        "  i += 1"
      ],
      "metadata": {
        "id": "Ck1A6s0kQZO0"
      },
      "execution_count": 32,
      "outputs": []
    },
    {
      "cell_type": "code",
      "source": [
        "for i in range(len(names_peter)):\n",
        "  if salaries_peter[i] is not None:\n",
        "    print(f\"{names_peter[i]} --- \" + f\"{salaries_peter[i]['from']} to {salaries_peter[i]['to']} ({salaries_peter[i]['currency']})\")"
      ],
      "metadata": {
        "id": "bHLNnTTJToGU"
      },
      "execution_count": null,
      "outputs": []
    },
    {
      "cell_type": "code",
      "source": [
        "res = [] # hold vacancies such that they are present in both Moscow and Saint Petersburg but offer greater salary for the second city\n",
        "salaries_res = [] # corresponding salaries\n",
        "\n",
        "for i in range(len(names_peter)):\n",
        "  if (salaries_peter[i] is not None and salaries_peter[i]['from'] is not None):\n",
        "    \n",
        "    name_peter = names_peter[i]\n",
        "\n",
        "    gross_peter = 1\n",
        "    coef_peter = 1\n",
        "    if (salaries_peter[i]['gross'] == False):\n",
        "      gross_peter = 0.87\n",
        "    if (salaries_peter[i]['currency'] != 'RUR'):\n",
        "      coef_peter = 60 # we assume that if the currency is not RUR then it's USD\n",
        "\n",
        "    gross_salary_in_rubles_peter = salaries_peter[i]['from'] * gross_peter * coef_peter\n",
        "      \n",
        "    for j in range(len(names_moscow)):\n",
        "      if (salaries_moscow[j] is not None and salaries_moscow[j]['from'] is not None and name_peter == names_moscow[j]):\n",
        "\n",
        "        gross_moscow = 1\n",
        "        coef_moscow = 1\n",
        "        if (salaries_moscow[j]['gross'] == False):\n",
        "          gross_moscow = 0.87\n",
        "        if (salaries_moscow[j]['currency'] != 'RUR'):\n",
        "          coef_moscow = 60\n",
        "\n",
        "        gross_salary_in_rubles_moscow = salaries_moscow[j]['from'] * gross_moscow * coef_moscow\n",
        "\n",
        "        if (gross_salary_in_rubles_moscow < gross_salary_in_rubles_peter):\n",
        "          res += [name_peter]\n",
        "          salaries_res += [gross_salary_in_rubles_peter]\n",
        "          break\n",
        "\n",
        "\n",
        "print(\"Names of vacancies in Saint Petersubrg where the salary is greater than those in Moscow: \" + ', '.join(list(set(res)))) # print without duplicates\n",
        "print(\"Length of list: \" + str(len(set(res))))\n",
        "print(\"The most paid job is \" + res[salaries_res.index(max(salaries_res))]) # take the index of the largest number\n",
        "print(\"Corresponding salary: \" + f\"{max(salaries_res)}\" + \" RUR\")"
      ],
      "metadata": {
        "colab": {
          "base_uri": "https://localhost:8080/"
        },
        "id": "GmKTrNMVUMm0",
        "outputId": "859e55da-a686-4b97-cc33-9c3a85221f71"
      },
      "execution_count": 34,
      "outputs": [
        {
          "output_type": "stream",
          "name": "stdout",
          "text": [
            "Names of vacancies in Saint Petersubrg where the salary is greater than those in Moscow: Аналитик, Системный аналитик, Бизнес-аналитик\n",
            "Length of list: 3\n",
            "The most paid job is Системный аналитик\n",
            "Corresponding salary: 113100.0 RUR\n"
          ]
        }
      ]
    }
  ]
}